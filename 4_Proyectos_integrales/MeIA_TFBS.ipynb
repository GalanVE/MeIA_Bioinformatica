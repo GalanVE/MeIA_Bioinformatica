{
 "cells": [
  {
   "cell_type": "markdown",
   "id": "03bbc4a9-26ab-484a-9ad7-168ab99c9904",
   "metadata": {
    "tags": []
   },
   "source": [
    "# Machine learning su aplicación en Biología\n",
    "\n",
    "__Análisis de datos biológicos utilizando métodos de machine learning__\n",
    "\n",
    "_MeIA_\n",
    "\n",
    "`2023`"
   ]
  },
  {
   "cell_type": "markdown",
   "id": "5eebbc3c-ebd0-41ed-938a-05eb13b151fc",
   "metadata": {},
   "source": [
    "## Descubrimiento de sitios de unión de factores de transcipción en ADN."
   ]
  },
  {
   "cell_type": "markdown",
   "id": "09c3307e-868a-48be-8dae-dc971d739f1f",
   "metadata": {},
   "source": [
    "La regulación de les expresión es un proceso complejo que involucra muchos mecanismos de control, que incluyen la estructura de la cromatina y la unión a secuencias de ADN por medio de proteínas denominadas Factores de transcriopción. Estos factores de transcripción se unen a secuencias de ADN especificas, denominadas sitios de unión a factores de transcripción (Transcription factors binding sites), la interacción entre los TFs y los TFBS permite controlar la transcripción. \n",
    "\n",
    "<img src=\"../imagenes/TFBS.png\" width=\"400\" height=\"400\"/>\n",
    "\n",
    "Convencionalmente, los TFBS tienen una longitud de entre 6-12 pb. La identificación de este tipos de secuencias es crucial para entender como se controla la regulación genética. Sin embargo, la identificación de estas secuencias es un gran desafio debido a que una busqueda masiva a nivel genómico resulta en un número muy alto de coinsidencias y por lo tanto de muchos falso postivos. "
   ]
  },
  {
   "cell_type": "markdown",
   "id": "4860c2e8-7fd8-4bd2-9d37-ee115566c679",
   "metadata": {},
   "source": [
    "Tenemos un dataset que consiste de secuencias de ADN de longitud de 50 pb. Estos datos fueron etiquetados con 0 y 1 , donde 1 corresponde a las secuencias que tienen el motivo regulatorio en este caso: CGACCGAACTCC."
   ]
  },
  {
   "cell_type": "markdown",
   "id": "9e6bf485-bd74-479c-8f58-4d403da67af0",
   "metadata": {},
   "source": [
    "## ¿Pueden crear un modelo que permita clasificar si una secuencia es tiene un sitio de unión a factores de transcrición?"
   ]
  },
  {
   "cell_type": "code",
   "execution_count": null,
   "id": "a74774d1-627f-427c-a3a5-b1f16e97aba5",
   "metadata": {},
   "outputs": [],
   "source": []
  },
  {
   "cell_type": "code",
   "execution_count": null,
   "id": "ca246916-2394-4f09-bea3-98c52646d1f0",
   "metadata": {},
   "outputs": [],
   "source": []
  },
  {
   "cell_type": "markdown",
   "id": "1e74613b-b3e1-46d3-af1d-31601596dad3",
   "metadata": {},
   "source": [
    "Las redes neuronales convolucionales con one-hot encoding son un tipo de arquitectura de redes neuronales que se utilizan comúnmente para el procesamiento y análisis de datos secuenciales, como las secuencias de ADN.\n",
    "\n",
    "En el contexto de las redes neuronales, el one-hot encoding es una técnica para representar datos categóricos en forma de vectores binarios. En el caso de las secuencias de ADN, cada nucleótido (A, C, G, T) se representa como un vector binario de tamaño igual al número de posibles categorías. Por ejemplo, si se utiliza el one-hot encoding, la base \"A\" se representa como [1, 0, 0, 0], la base \"C\" como [0, 1, 0, 0], la base \"G\" como [0, 0, 1, 0], y la base \"T\" como [0, 0, 0, 1].\n",
    "\n",
    "Las redes convolucionales con one-hot encoding aprovechan esta representación para procesar secuencias de ADN. La capa convolucional en estas redes aplica filtros a las secuencias de ADN codificadas en one-hot encoding, lo que permite extraer características y patrones relevantes en la secuencia. Estos filtros son pequeñas ventanas que se deslizan sobre la secuencia y realizan operaciones de convolución.\n",
    "\n",
    "Después de la etapa de convolución, se pueden aplicar capas de pooling (como la capa MaxPooling) para reducir la dimensionalidad y preservar las características más importantes. Luego, los resultados se aplanan y se conectan a capas densas (fully connected) para realizar la clasificación final."
   ]
  },
  {
   "cell_type": "code",
   "execution_count": 37,
   "id": "fffa399f-f08d-4794-a2d0-e6e94ac01360",
   "metadata": {
    "tags": []
   },
   "outputs": [],
   "source": [
    "import numpy as np\n",
    "import pandas as pd\n",
    "import tensorflow as tf\n",
    "from sklearn.model_selection import train_test_split\n",
    "seed_value = 52\n",
    "\n",
    "# Establecer la semilla para NumPy\n",
    "np.random.seed(seed_value)\n",
    "\n",
    "# Establecer la semilla para TensorFlow\n",
    "tf.random.set_seed(seed_value)"
   ]
  },
  {
   "cell_type": "code",
   "execution_count": 38,
   "id": "69ff0032-9e18-4699-a4dc-8eb1a951e45a",
   "metadata": {
    "tags": []
   },
   "outputs": [],
   "source": [
    "# Función para verificar la longitud uniforme de las secuencias\n",
    "def verificar_longitud(secuencias):\n",
    "    longitud = len(secuencias[0])\n",
    "    for secuencia in secuencias:\n",
    "        if len(secuencia) != longitud:\n",
    "            return False\n",
    "    return True"
   ]
  },
  {
   "cell_type": "code",
   "execution_count": 39,
   "id": "01f140f8-7e09-4033-ac5f-93373f1b43a5",
   "metadata": {
    "tags": []
   },
   "outputs": [],
   "source": [
    "# Función para preprocesar las secuencias y convertirlas a one-hot encoding\n",
    "def preprocesar_secuencias(secuencias):\n",
    "    nucleotidos = ['A', 'C', 'G', 'T']\n",
    "    secuencias_codificadas = []\n",
    "    for secuencia in secuencias:\n",
    "        secuencia_codificada = []\n",
    "        for nucleotido in secuencia:\n",
    "            one_hot = [int(nucleotido == base) for base in nucleotidos]\n",
    "            secuencia_codificada.append(one_hot)\n",
    "        secuencias_codificadas.append(secuencia_codificada)\n",
    "    return np.array(secuencias_codificadas)\n"
   ]
  },
  {
   "cell_type": "code",
   "execution_count": 40,
   "id": "fd33557e-3839-4c8a-9776-5ceddaebef27",
   "metadata": {
    "tags": []
   },
   "outputs": [
    {
     "data": {
      "text/html": [
       "<div>\n",
       "<style scoped>\n",
       "    .dataframe tbody tr th:only-of-type {\n",
       "        vertical-align: middle;\n",
       "    }\n",
       "\n",
       "    .dataframe tbody tr th {\n",
       "        vertical-align: top;\n",
       "    }\n",
       "\n",
       "    .dataframe thead th {\n",
       "        text-align: right;\n",
       "    }\n",
       "</style>\n",
       "<table border=\"1\" class=\"dataframe\">\n",
       "  <thead>\n",
       "    <tr style=\"text-align: right;\">\n",
       "      <th></th>\n",
       "      <th>secuencias</th>\n",
       "      <th>etiquetas</th>\n",
       "    </tr>\n",
       "  </thead>\n",
       "  <tbody>\n",
       "    <tr>\n",
       "      <th>0</th>\n",
       "      <td>CCGAGGGCTATGGTTTGGAAGTTAGAACCCTGGGGCTTCTCGCGGA...</td>\n",
       "      <td>0</td>\n",
       "    </tr>\n",
       "    <tr>\n",
       "      <th>1</th>\n",
       "      <td>GAGTTTATATGGCGCGAGCCTAGTGGTTTTTGTACTTGTTTGTCGC...</td>\n",
       "      <td>0</td>\n",
       "    </tr>\n",
       "    <tr>\n",
       "      <th>2</th>\n",
       "      <td>GATCAGTAGGGAAACAAACAGAGGGCCCAGCCACATCTAGCAGGTA...</td>\n",
       "      <td>0</td>\n",
       "    </tr>\n",
       "    <tr>\n",
       "      <th>3</th>\n",
       "      <td>GTCCACGACCGAACTCCCACCTTGACCGCAGAGGTACCACCAGAGC...</td>\n",
       "      <td>1</td>\n",
       "    </tr>\n",
       "    <tr>\n",
       "      <th>4</th>\n",
       "      <td>GGCGACCGAACTCCAACTAGAACCTGCATAACTGGCCTGGGAGATA...</td>\n",
       "      <td>1</td>\n",
       "    </tr>\n",
       "  </tbody>\n",
       "</table>\n",
       "</div>"
      ],
      "text/plain": [
       "                                          secuencias  etiquetas\n",
       "0  CCGAGGGCTATGGTTTGGAAGTTAGAACCCTGGGGCTTCTCGCGGA...          0\n",
       "1  GAGTTTATATGGCGCGAGCCTAGTGGTTTTTGTACTTGTTTGTCGC...          0\n",
       "2  GATCAGTAGGGAAACAAACAGAGGGCCCAGCCACATCTAGCAGGTA...          0\n",
       "3  GTCCACGACCGAACTCCCACCTTGACCGCAGAGGTACCACCAGAGC...          1\n",
       "4  GGCGACCGAACTCCAACTAGAACCTGCATAACTGGCCTGGGAGATA...          1"
      ]
     },
     "execution_count": 40,
     "metadata": {},
     "output_type": "execute_result"
    }
   ],
   "source": [
    "# Cargar los datos desde un archivo CSV\n",
    "dataframe = pd.read_csv('../Datos/DNAbinding.csv')\n",
    "dataframe.head()"
   ]
  },
  {
   "cell_type": "code",
   "execution_count": 41,
   "id": "0124abfb-ef78-49cf-b950-9c40932b4221",
   "metadata": {
    "tags": []
   },
   "outputs": [],
   "source": [
    "secuencias = dataframe['secuencias'].tolist()\n",
    "etiquetas = dataframe['etiquetas'].tolist()"
   ]
  },
  {
   "cell_type": "code",
   "execution_count": 42,
   "id": "95323a79-c34f-4be8-a9ea-2e0a517305ed",
   "metadata": {
    "tags": []
   },
   "outputs": [],
   "source": [
    "# Verificar la longitud de las secuencias\n",
    "if not verificar_longitud(secuencias):\n",
    "    print(\"Error: Las secuencias tienen diferentes longitudes.\")\n",
    "    exit()"
   ]
  },
  {
   "cell_type": "code",
   "execution_count": 43,
   "id": "adda33cd-ac37-49f1-9fce-fc8c265788fa",
   "metadata": {
    "tags": []
   },
   "outputs": [],
   "source": [
    "# Preprocesar las secuencias y etiquetas\n",
    "secuencias_codificadas = preprocesar_secuencias(secuencias)\n",
    "etiquetas = np.array(etiquetas)\n"
   ]
  },
  {
   "cell_type": "code",
   "execution_count": 50,
   "id": "e98083fd-6f5b-4277-8540-f2823eec71ab",
   "metadata": {
    "tags": []
   },
   "outputs": [],
   "source": [
    "# Dividir el dataset en conjuntos de entrenamiento, prueba y validación\n",
    "# dividir las secuencias codificadas (secuencias_codificadas) y las etiquetas (etiquetas) en conjuntos de entrenamiento (80% de los datos), prueba (10% de los datos) y validación (10% de los datos)\n",
    "X_train, X_test, y_train, y_test = train_test_split(secuencias_codificadas, etiquetas, test_size=0.2, random_state=42)\n",
    "X_train, X_val, y_train, y_val = train_test_split(X_train, y_train, test_size=0.2, random_state=42)\n"
   ]
  },
  {
   "cell_type": "code",
   "execution_count": 51,
   "id": "a4d082de-c7f8-441b-9fe5-69c4b3f29913",
   "metadata": {
    "tags": []
   },
   "outputs": [
    {
     "name": "stdout",
     "output_type": "stream",
     "text": [
      "Model: \"sequential_6\"\n",
      "_________________________________________________________________\n",
      " Layer (type)                Output Shape              Param #   \n",
      "=================================================================\n",
      " conv1d_5 (Conv1D)           (None, 39, 32)            1568      \n",
      "                                                                 \n",
      " max_pooling1d_5 (MaxPooling  (None, 9, 32)            0         \n",
      " 1D)                                                             \n",
      "                                                                 \n",
      " flatten_5 (Flatten)         (None, 288)               0         \n",
      "                                                                 \n",
      " dense_10 (Dense)            (None, 16)                4624      \n",
      "                                                                 \n",
      " dense_11 (Dense)            (None, 1)                 17        \n",
      "                                                                 \n",
      "=================================================================\n",
      "Total params: 6,209\n",
      "Trainable params: 6,209\n",
      "Non-trainable params: 0\n",
      "_________________________________________________________________\n"
     ]
    }
   ],
   "source": [
    "# Crear el modelo de la CNN\n",
    "model = tf.keras.Sequential([\n",
    "    tf.keras.layers.Conv1D(filters=32, kernel_size=12, activation='relu', input_shape=(50, 4)),\n",
    "    tf.keras.layers.MaxPooling1D(pool_size=4),\n",
    "    tf.keras.layers.Flatten(),\n",
    "    tf.keras.layers.Dense(16, activation='relu'),\n",
    "    tf.keras.layers.Dense(1, activation='sigmoid')\n",
    "])\n",
    "model.summary()"
   ]
  },
  {
   "cell_type": "code",
   "execution_count": 52,
   "id": "55b5963f-b7aa-4c29-8474-95c06f78a092",
   "metadata": {
    "tags": []
   },
   "outputs": [],
   "source": [
    "# Compilar el modelo\n",
    "model.compile(optimizer='adam', loss='binary_crossentropy', metrics=['accuracy'])\n"
   ]
  },
  {
   "cell_type": "code",
   "execution_count": 53,
   "id": "dfe4f780-9ca5-4eda-8360-3174131f2c98",
   "metadata": {
    "tags": []
   },
   "outputs": [
    {
     "name": "stdout",
     "output_type": "stream",
     "text": [
      "Epoch 1/50\n",
      "40/40 [==============================] - 1s 10ms/step - loss: 0.6422 - accuracy: 0.6687 - val_loss: 0.5867 - val_accuracy: 0.7125\n",
      "Epoch 2/50\n",
      "40/40 [==============================] - 0s 6ms/step - loss: 0.4658 - accuracy: 0.8359 - val_loss: 0.3756 - val_accuracy: 0.8687\n",
      "Epoch 3/50\n",
      "40/40 [==============================] - 0s 6ms/step - loss: 0.3059 - accuracy: 0.8969 - val_loss: 0.2549 - val_accuracy: 0.9156\n",
      "Epoch 4/50\n",
      "40/40 [==============================] - 0s 6ms/step - loss: 0.2022 - accuracy: 0.9555 - val_loss: 0.1952 - val_accuracy: 0.9344\n",
      "Epoch 5/50\n",
      "40/40 [==============================] - 0s 6ms/step - loss: 0.1369 - accuracy: 0.9695 - val_loss: 0.1343 - val_accuracy: 0.9688\n",
      "Epoch 6/50\n",
      "40/40 [==============================] - 0s 6ms/step - loss: 0.0943 - accuracy: 0.9844 - val_loss: 0.1061 - val_accuracy: 0.9812\n",
      "Epoch 7/50\n",
      "40/40 [==============================] - 0s 6ms/step - loss: 0.0697 - accuracy: 0.9875 - val_loss: 0.0870 - val_accuracy: 0.9781\n",
      "Epoch 8/50\n",
      "40/40 [==============================] - 0s 6ms/step - loss: 0.0499 - accuracy: 0.9945 - val_loss: 0.0740 - val_accuracy: 0.9844\n",
      "Epoch 9/50\n",
      "40/40 [==============================] - 0s 6ms/step - loss: 0.0389 - accuracy: 0.9961 - val_loss: 0.0636 - val_accuracy: 0.9906\n",
      "Epoch 10/50\n",
      "40/40 [==============================] - 0s 6ms/step - loss: 0.0271 - accuracy: 0.9977 - val_loss: 0.0601 - val_accuracy: 0.9906\n",
      "Epoch 11/50\n",
      "40/40 [==============================] - 0s 6ms/step - loss: 0.0241 - accuracy: 0.9969 - val_loss: 0.0570 - val_accuracy: 0.9844\n",
      "Epoch 12/50\n",
      "40/40 [==============================] - 0s 6ms/step - loss: 0.0174 - accuracy: 0.9992 - val_loss: 0.0507 - val_accuracy: 0.9906\n",
      "Epoch 13/50\n",
      "40/40 [==============================] - 0s 6ms/step - loss: 0.0136 - accuracy: 0.9992 - val_loss: 0.0463 - val_accuracy: 0.9906\n",
      "Epoch 14/50\n",
      "40/40 [==============================] - 0s 6ms/step - loss: 0.0117 - accuracy: 1.0000 - val_loss: 0.0480 - val_accuracy: 0.9937\n",
      "Epoch 15/50\n",
      "40/40 [==============================] - 0s 6ms/step - loss: 0.0086 - accuracy: 1.0000 - val_loss: 0.0435 - val_accuracy: 0.9906\n",
      "Epoch 16/50\n",
      "40/40 [==============================] - 0s 6ms/step - loss: 0.0075 - accuracy: 1.0000 - val_loss: 0.0430 - val_accuracy: 0.9937\n",
      "Epoch 17/50\n",
      "40/40 [==============================] - 0s 6ms/step - loss: 0.0068 - accuracy: 1.0000 - val_loss: 0.0422 - val_accuracy: 0.9906\n",
      "Epoch 18/50\n",
      "40/40 [==============================] - 0s 6ms/step - loss: 0.0054 - accuracy: 1.0000 - val_loss: 0.0420 - val_accuracy: 0.9937\n",
      "Epoch 19/50\n",
      "40/40 [==============================] - 0s 6ms/step - loss: 0.0047 - accuracy: 1.0000 - val_loss: 0.0400 - val_accuracy: 0.9937\n",
      "Epoch 20/50\n",
      "40/40 [==============================] - 0s 6ms/step - loss: 0.0039 - accuracy: 1.0000 - val_loss: 0.0392 - val_accuracy: 0.9906\n",
      "Epoch 21/50\n",
      "40/40 [==============================] - 0s 6ms/step - loss: 0.0037 - accuracy: 1.0000 - val_loss: 0.0388 - val_accuracy: 0.9906\n",
      "Epoch 22/50\n",
      "40/40 [==============================] - 0s 6ms/step - loss: 0.0032 - accuracy: 1.0000 - val_loss: 0.0398 - val_accuracy: 0.9937\n",
      "Epoch 23/50\n",
      "40/40 [==============================] - 0s 6ms/step - loss: 0.0028 - accuracy: 1.0000 - val_loss: 0.0387 - val_accuracy: 0.9937\n",
      "Epoch 24/50\n",
      "40/40 [==============================] - 0s 6ms/step - loss: 0.0026 - accuracy: 1.0000 - val_loss: 0.0388 - val_accuracy: 0.9937\n",
      "Epoch 25/50\n",
      "40/40 [==============================] - 0s 6ms/step - loss: 0.0023 - accuracy: 1.0000 - val_loss: 0.0387 - val_accuracy: 0.9937\n",
      "Epoch 26/50\n",
      "40/40 [==============================] - 0s 6ms/step - loss: 0.0021 - accuracy: 1.0000 - val_loss: 0.0389 - val_accuracy: 0.9937\n",
      "Epoch 27/50\n",
      "40/40 [==============================] - 0s 6ms/step - loss: 0.0020 - accuracy: 1.0000 - val_loss: 0.0379 - val_accuracy: 0.9937\n",
      "Epoch 28/50\n",
      "40/40 [==============================] - 0s 6ms/step - loss: 0.0017 - accuracy: 1.0000 - val_loss: 0.0395 - val_accuracy: 0.9937\n",
      "Epoch 29/50\n",
      "40/40 [==============================] - 0s 6ms/step - loss: 0.0016 - accuracy: 1.0000 - val_loss: 0.0381 - val_accuracy: 0.9937\n",
      "Epoch 30/50\n",
      "40/40 [==============================] - 0s 6ms/step - loss: 0.0015 - accuracy: 1.0000 - val_loss: 0.0381 - val_accuracy: 0.9937\n",
      "Epoch 31/50\n",
      "40/40 [==============================] - 0s 6ms/step - loss: 0.0014 - accuracy: 1.0000 - val_loss: 0.0392 - val_accuracy: 0.9937\n",
      "Epoch 32/50\n",
      "40/40 [==============================] - 0s 6ms/step - loss: 0.0012 - accuracy: 1.0000 - val_loss: 0.0394 - val_accuracy: 0.9937\n",
      "Epoch 33/50\n",
      "40/40 [==============================] - 0s 6ms/step - loss: 0.0012 - accuracy: 1.0000 - val_loss: 0.0395 - val_accuracy: 0.9937\n",
      "Epoch 34/50\n",
      "40/40 [==============================] - 0s 6ms/step - loss: 0.0011 - accuracy: 1.0000 - val_loss: 0.0395 - val_accuracy: 0.9937\n",
      "Epoch 35/50\n",
      "40/40 [==============================] - 0s 6ms/step - loss: 0.0010 - accuracy: 1.0000 - val_loss: 0.0392 - val_accuracy: 0.9937\n",
      "Epoch 36/50\n",
      "40/40 [==============================] - 0s 6ms/step - loss: 9.3743e-04 - accuracy: 1.0000 - val_loss: 0.0394 - val_accuracy: 0.9937\n",
      "Epoch 37/50\n",
      "40/40 [==============================] - 0s 6ms/step - loss: 8.7574e-04 - accuracy: 1.0000 - val_loss: 0.0404 - val_accuracy: 0.9937\n",
      "Epoch 38/50\n",
      "40/40 [==============================] - 0s 6ms/step - loss: 8.3467e-04 - accuracy: 1.0000 - val_loss: 0.0399 - val_accuracy: 0.9937\n",
      "Epoch 39/50\n",
      "40/40 [==============================] - 0s 6ms/step - loss: 7.6721e-04 - accuracy: 1.0000 - val_loss: 0.0396 - val_accuracy: 0.9937\n",
      "Epoch 40/50\n",
      "40/40 [==============================] - 0s 6ms/step - loss: 7.2295e-04 - accuracy: 1.0000 - val_loss: 0.0401 - val_accuracy: 0.9937\n",
      "Epoch 41/50\n",
      "40/40 [==============================] - 0s 6ms/step - loss: 6.8956e-04 - accuracy: 1.0000 - val_loss: 0.0413 - val_accuracy: 0.9937\n",
      "Epoch 42/50\n",
      "40/40 [==============================] - 0s 6ms/step - loss: 6.5196e-04 - accuracy: 1.0000 - val_loss: 0.0400 - val_accuracy: 0.9937\n",
      "Epoch 43/50\n",
      "40/40 [==============================] - 0s 6ms/step - loss: 6.0596e-04 - accuracy: 1.0000 - val_loss: 0.0399 - val_accuracy: 0.9937\n",
      "Epoch 44/50\n",
      "40/40 [==============================] - 0s 6ms/step - loss: 5.6637e-04 - accuracy: 1.0000 - val_loss: 0.0411 - val_accuracy: 0.9937\n",
      "Epoch 45/50\n",
      "40/40 [==============================] - 0s 6ms/step - loss: 5.4442e-04 - accuracy: 1.0000 - val_loss: 0.0399 - val_accuracy: 0.9937\n",
      "Epoch 46/50\n",
      "40/40 [==============================] - 0s 6ms/step - loss: 5.1751e-04 - accuracy: 1.0000 - val_loss: 0.0407 - val_accuracy: 0.9937\n",
      "Epoch 47/50\n",
      "40/40 [==============================] - 0s 6ms/step - loss: 4.8426e-04 - accuracy: 1.0000 - val_loss: 0.0404 - val_accuracy: 0.9937\n",
      "Epoch 48/50\n",
      "40/40 [==============================] - 0s 6ms/step - loss: 4.7209e-04 - accuracy: 1.0000 - val_loss: 0.0404 - val_accuracy: 0.9937\n",
      "Epoch 49/50\n",
      "40/40 [==============================] - 0s 6ms/step - loss: 4.3766e-04 - accuracy: 1.0000 - val_loss: 0.0414 - val_accuracy: 0.9937\n",
      "Epoch 50/50\n",
      "40/40 [==============================] - 0s 6ms/step - loss: 4.1843e-04 - accuracy: 1.0000 - val_loss: 0.0408 - val_accuracy: 0.9937\n"
     ]
    }
   ],
   "source": [
    "# Entrenar el modelo\n",
    "history =model.fit(X_train, y_train, validation_data=(X_val, y_val), epochs=50)\n"
   ]
  },
  {
   "cell_type": "code",
   "execution_count": 54,
   "id": "3ca0ed9c-45ad-47b3-bba8-172648029f34",
   "metadata": {
    "tags": []
   },
   "outputs": [
    {
     "data": {
      "image/png": "[encoded data removed]",
      "text/plain": [
       "<Figure size 640x480 with 1 Axes>"
      ]
     },
     "metadata": {},
     "output_type": "display_data"
    }
   ],
   "source": [
    "import matplotlib.pyplot as plt\n",
    "plt.figure()\n",
    "plt.plot(history.history['loss'])\n",
    "plt.plot(history.history['val_loss'])\n",
    "plt.title('model loss')\n",
    "plt.ylabel('loss')\n",
    "plt.xlabel('epoch')\n",
    "plt.legend(['train', 'validation'])\n",
    "plt.show()\n",
    "     "
   ]
  },
  {
   "cell_type": "code",
   "execution_count": 55,
   "id": "b97e9fff-26c8-4b4a-ae05-7cd05fceb6c5",
   "metadata": {
    "tags": []
   },
   "outputs": [
    {
     "name": "stdout",
     "output_type": "stream",
     "text": [
      "13/13 [==============================] - 0s 2ms/step - loss: 0.0064 - accuracy: 0.9950\n",
      "Loss:  0.006429615430533886\n",
      "Accuracy:  0.9950000047683716\n"
     ]
    }
   ],
   "source": [
    "# Evaluar el modelo en el conjunto de prueba\n",
    "loss, accuracy = model.evaluate(X_test, y_test)\n",
    "print(\"Loss: \", loss)\n",
    "print(\"Accuracy: \", accuracy)"
   ]
  },
  {
   "cell_type": "code",
   "execution_count": null,
   "id": "43984848-9625-45d5-aa02-e2f8d02a1ccc",
   "metadata": {},
   "outputs": [],
   "source": []
  }
 ],
 "metadata": {
  "kernelspec": {
   "display_name": "Python 3 (ipykernel)",
   "language": "python",
   "name": "python3"
  },
  "language_info": {
   "codemirror_mode": {
    "name": "ipython",
    "version": 3
   },
   "file_extension": ".py",
   "mimetype": "text/x-python",
   "name": "python",
   "nbconvert_exporter": "python",
   "pygments_lexer": "ipython3",
   "version": "3.10.10"
  }
 },
 "nbformat": 4,
 "nbformat_minor": 5
}
