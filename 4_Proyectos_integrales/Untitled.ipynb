{
 "cells": [
  {
   "cell_type": "markdown",
   "id": "ec97798c",
   "metadata": {},
   "source": [
    "# Machine learning su aplicación en Biología\n",
    "\n",
    "__Análisis de datos biológicos utilizando métodos de machine learning__\n",
    "\n",
    "_MeIA_\n",
    "\n",
    "`2023`"
   ]
  },
  {
   "cell_type": "markdown",
   "id": "07d82cc7",
   "metadata": {},
   "source": [
    "## Aplicación de CNN para clasificación de secuencias de ADN"
   ]
  },
  {
   "cell_type": "code",
   "execution_count": 1,
   "id": "9228c3a0",
   "metadata": {},
   "outputs": [
    {
     "ename": "ModuleNotFoundError",
     "evalue": "No module named 'tensorflow'",
     "output_type": "error",
     "traceback": [
      "\u001b[0;31m---------------------------------------------------------------------------\u001b[0m",
      "\u001b[0;31mModuleNotFoundError\u001b[0m                       Traceback (most recent call last)",
      "Input \u001b[0;32mIn [1]\u001b[0m, in \u001b[0;36m<cell line: 3>\u001b[0;34m()\u001b[0m\n\u001b[1;32m      1\u001b[0m \u001b[38;5;28;01mimport\u001b[39;00m \u001b[38;5;21;01mpandas\u001b[39;00m \u001b[38;5;28;01mas\u001b[39;00m \u001b[38;5;21;01mpd\u001b[39;00m\n\u001b[1;32m      2\u001b[0m \u001b[38;5;28;01mimport\u001b[39;00m \u001b[38;5;21;01mnumpy\u001b[39;00m \u001b[38;5;28;01mas\u001b[39;00m \u001b[38;5;21;01mnp\u001b[39;00m\n\u001b[0;32m----> 3\u001b[0m \u001b[38;5;28;01mimport\u001b[39;00m \u001b[38;5;21;01mtensorflow\u001b[39;00m \u001b[38;5;28;01mas\u001b[39;00m \u001b[38;5;21;01mtf\u001b[39;00m\n",
      "\u001b[0;31mModuleNotFoundError\u001b[0m: No module named 'tensorflow'"
     ]
    }
   ],
   "source": [
    "import pandas as pd\n",
    "import numpy as np\n",
    "import tensorflow as tf"
   ]
  },
  {
   "cell_type": "code",
   "execution_count": null,
   "id": "bfc31a1f",
   "metadata": {},
   "outputs": [],
   "source": []
  },
  {
   "cell_type": "code",
   "execution_count": null,
   "id": "3dfc2330",
   "metadata": {},
   "outputs": [],
   "source": []
  },
  {
   "cell_type": "code",
   "execution_count": 3,
   "id": "7862530c",
   "metadata": {},
   "outputs": [],
   "source": [
    "dna_sequence = \"https://raw.githubusercontent.com/abidlabs/deep-learning-genomics-primer/master/sequences.txt\"\n",
    "dna_label = \"https://raw.githubusercontent.com/abidlabs/deep-learning-genomics-primer/master/labels.txt\""
   ]
  },
  {
   "cell_type": "code",
   "execution_count": 6,
   "id": "53591645",
   "metadata": {},
   "outputs": [],
   "source": [
    "def dna_sequence_np_array(dna_sequence_string):\n",
    "    dna_sequence_array = None\n",
    "    try:\n",
    "        dna_sequence_string = dna_sequence_string.lower()   \n",
    "        regex_acgt = re.compile('[^acgt]') \n",
    "        if (regex_acgt.search(dna_sequence_string) == None):           \n",
    "            dna_sequence_array = np.array(list(dna_sequence_string))\n",
    "        else:       \n",
    "            dna_sequence_array = None    \n",
    "    except:               \n",
    "        print(PyDNA.get_exception_info())\n",
    "        if PyDNA._app_is_log: PyDNA.write_log_file(\"error\",   PyDNA.get_exception_info())  \n",
    "    return dna_sequence_array"
   ]
  },
  {
   "cell_type": "code",
   "execution_count": 8,
   "id": "58f4b463",
   "metadata": {},
   "outputs": [
    {
     "ename": "NameError",
     "evalue": "name 'PyDNA' is not defined",
     "output_type": "error",
     "traceback": [
      "\u001b[0;31m---------------------------------------------------------------------------\u001b[0m",
      "\u001b[0;31mNameError\u001b[0m                                 Traceback (most recent call last)",
      "Input \u001b[0;32mIn [8]\u001b[0m, in \u001b[0;36m<cell line: 1>\u001b[0;34m()\u001b[0m\n\u001b[0;32m----> 1\u001b[0m \u001b[43mPyDNA\u001b[49m\u001b[38;5;241m.\u001b[39mGenerateCSVFileParallel(dna_sequence, dna_label, \u001b[38;5;124m\"\u001b[39m\u001b[38;5;124mdna_sequence_protein\u001b[39m\u001b[38;5;124m\"\u001b[39m)\n",
      "\u001b[0;31mNameError\u001b[0m: name 'PyDNA' is not defined"
     ]
    }
   ],
   "source": [
    "PyDNA.GenerateCSVFileParallel(dna_sequence, dna_label, \"dna_sequence_protein\")"
   ]
  },
  {
   "cell_type": "code",
   "execution_count": 2,
   "id": "808b92a6",
   "metadata": {},
   "outputs": [
    {
     "ename": "NameError",
     "evalue": "name 'PyDNA' is not defined",
     "output_type": "error",
     "traceback": [
      "\u001b[0;31m---------------------------------------------------------------------------\u001b[0m",
      "\u001b[0;31mNameError\u001b[0m                                 Traceback (most recent call last)",
      "Input \u001b[0;32mIn [2]\u001b[0m, in \u001b[0;36m<cell line: 2>\u001b[0;34m()\u001b[0m\n\u001b[1;32m      1\u001b[0m dna_sequence_string \u001b[38;5;241m=\u001b[39m \u001b[38;5;124m\"\u001b[39m\u001b[38;5;124mATATATCCCGGGAATTTTCGTAGTTAGGCTGATTTTATTGGCGCGAAAATTT\u001b[39m\u001b[38;5;124m\"\u001b[39m\n\u001b[0;32m----> 2\u001b[0m is_dna_result \u001b[38;5;241m=\u001b[39m \u001b[43mPyDNA\u001b[49m\u001b[38;5;241m.\u001b[39mis_dna(dna_sequence_string)\n\u001b[1;32m      3\u001b[0m \u001b[38;5;28mprint\u001b[39m(\u001b[38;5;124m\"\u001b[39m\u001b[38;5;124mDNA sequence string:\u001b[39m\u001b[38;5;130;01m\\n\u001b[39;00m\u001b[38;5;132;01m{}\u001b[39;00m\u001b[38;5;124m\"\u001b[39m\u001b[38;5;241m.\u001b[39mformat(dna_sequence_string))\n\u001b[1;32m      4\u001b[0m \u001b[38;5;28mprint\u001b[39m(\u001b[38;5;124m\"\u001b[39m\u001b[38;5;124mIs DNA:\u001b[39m\u001b[38;5;130;01m\\n\u001b[39;00m\u001b[38;5;132;01m{}\u001b[39;00m\u001b[38;5;124m\"\u001b[39m\u001b[38;5;241m.\u001b[39mformat(is_dna_result))\n",
      "\u001b[0;31mNameError\u001b[0m: name 'PyDNA' is not defined"
     ]
    }
   ],
   "source": [
    "dna_sequence_string = \"ATATATCCCGGGAATTTTCGTAGTTAGGCTGATTTTATTGGCGCGAAAATTT\"\n",
    "is_dna_result = PyDNA.is_dna(dna_sequence_string)\n",
    "print(\"DNA sequence string:\\n{}\".format(dna_sequence_string))\n",
    "print(\"Is DNA:\\n{}\".format(is_dna_result))"
   ]
  },
  {
   "cell_type": "code",
   "execution_count": 7,
   "id": "1c6836c5",
   "metadata": {},
   "outputs": [],
   "source": [
    "import pydna as PyDNA\n"
   ]
  },
  {
   "cell_type": "code",
   "execution_count": 9,
   "id": "afc0801a",
   "metadata": {},
   "outputs": [],
   "source": [
    "def dna_sequence_pattern(dna_sequence_string, dna_sequence_pattern):\n",
    "    search_result = False\n",
    "    try:\n",
    "        search_pattern = re.search(dna_sequence_pattern.lower(), dna_sequence_string.lower())\n",
    "        if search_pattern: search_result = True       \n",
    "    except:               \n",
    "        print(PyDNA.get_exception_info())\n",
    "        if PyDNA._app_is_log: PyDNA.write_log_file(\"error\", PyDNA.get_exception_info())  \n",
    "    return search_result"
   ]
  },
  {
   "cell_type": "code",
   "execution_count": 10,
   "id": "d1c1fda8",
   "metadata": {},
   "outputs": [
    {
     "ename": "AttributeError",
     "evalue": "module 'pydna' has no attribute 'dna_sequence_pattern'",
     "output_type": "error",
     "traceback": [
      "\u001b[0;31m---------------------------------------------------------------------------\u001b[0m",
      "\u001b[0;31mAttributeError\u001b[0m                            Traceback (most recent call last)",
      "Input \u001b[0;32mIn [10]\u001b[0m, in \u001b[0;36m<cell line: 3>\u001b[0;34m()\u001b[0m\n\u001b[1;32m      1\u001b[0m dna_sequence_string \u001b[38;5;241m=\u001b[39m \u001b[38;5;124m\"\u001b[39m\u001b[38;5;124mATATATCCCGGGAATTTTCGTAGTTAGGCTGATTTTATTGGCGCGAAAATTTTTT\u001b[39m\u001b[38;5;124m\"\u001b[39m\n\u001b[1;32m      2\u001b[0m dna_sequence_pattern \u001b[38;5;241m=\u001b[39m \u001b[38;5;124m\"\u001b[39m\u001b[38;5;124mAATTTT\u001b[39m\u001b[38;5;124m\"\u001b[39m\n\u001b[0;32m----> 3\u001b[0m result \u001b[38;5;241m=\u001b[39m \u001b[43mPyDNA\u001b[49m\u001b[38;5;241;43m.\u001b[39;49m\u001b[43mdna_sequence_pattern\u001b[49m(dna_sequence_string, dna_sequence_pattern)\n\u001b[1;32m      4\u001b[0m \u001b[38;5;28mprint\u001b[39m(result)\n",
      "\u001b[0;31mAttributeError\u001b[0m: module 'pydna' has no attribute 'dna_sequence_pattern'"
     ]
    }
   ],
   "source": [
    "dna_sequence_string = \"ATATATCCCGGGAATTTTCGTAGTTAGGCTGATTTTATTGGCGCGAAAATTTTTT\"\n",
    "dna_sequence_pattern = \"AATTTT\"\n",
    "result = PyDNA.dna_sequence_pattern(dna_sequence_string, dna_sequence_pattern)\n",
    "print(result)"
   ]
  },
  {
   "cell_type": "code",
   "execution_count": null,
   "id": "63d97c74",
   "metadata": {},
   "outputs": [],
   "source": []
  }
 ],
 "metadata": {
  "kernelspec": {
   "display_name": "Python 3 (ipykernel)",
   "language": "python",
   "name": "python3"
  },
  "language_info": {
   "codemirror_mode": {
    "name": "ipython",
    "version": 3
   },
   "file_extension": ".py",
   "mimetype": "text/x-python",
   "name": "python",
   "nbconvert_exporter": "python",
   "pygments_lexer": "ipython3",
   "version": "3.9.12"
  }
 },
 "nbformat": 4,
 "nbformat_minor": 5
}
