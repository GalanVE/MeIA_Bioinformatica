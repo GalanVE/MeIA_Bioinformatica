{
 "cells": [
  {
   "cell_type": "code",
   "execution_count": 1,
   "id": "4b709a1d",
   "metadata": {},
   "outputs": [],
   "source": [
    "import numpy as np\n",
    "import pandas as pd\n",
    "import os\n",
    "import random\n",
    "import re\n",
    "from collections import Counter\n",
    "import glob"
   ]
  },
  {
   "cell_type": "code",
   "execution_count": 1,
   "id": "9c4f18f7",
   "metadata": {},
   "outputs": [
    {
     "name": "stdout",
     "output_type": "stream",
     "text": [
      "\u001b[0m\u001b[34;42mfastas_per_TF\u001b[0m/  Rnd_TFs.ipynb  TFs.csv\r\n"
     ]
    }
   ],
   "source": [
    "ls"
   ]
  },
  {
   "cell_type": "code",
   "execution_count": 2,
   "id": "0741c6fc",
   "metadata": {},
   "outputs": [],
   "source": [
    "directory_path = '/home/andre/Documents/UNAM/Projeto_binding_site/Rnd_binding_site_V2/fastas_per_TF/'"
   ]
  },
  {
   "cell_type": "markdown",
   "id": "0cd3ca6c",
   "metadata": {},
   "source": [
    "## Randomize the sequence"
   ]
  },
  {
   "cell_type": "code",
   "execution_count": 8,
   "id": "8b14a3d7",
   "metadata": {},
   "outputs": [],
   "source": [
    "def randomize_letters(dataframe):\n",
    "    randomized_df = dataframe.applymap(randomize_string)\n",
    "    return randomized_df\n",
    "\n",
    "def randomize_string(string):\n",
    "    letters = list(string)\n",
    "    random.shuffle(letters)\n",
    "    randomized_string = ''.join(letters)\n",
    "    return randomized_string"
   ]
  },
  {
   "cell_type": "code",
   "execution_count": 9,
   "id": "a06e2d5a",
   "metadata": {},
   "outputs": [],
   "source": [
    "def count_letters(dataframe):\n",
    "    letter_counts = dataframe.applymap(count_letters_in_string)\n",
    "    return letter_counts\n",
    "\n",
    "def count_letters_in_string(string):\n",
    "    counter = Counter(string)\n",
    "    return dict(counter)"
   ]
  },
  {
   "cell_type": "code",
   "execution_count": 10,
   "id": "a825705d",
   "metadata": {},
   "outputs": [
    {
     "name": "stdout",
     "output_type": "stream",
     "text": [
      "AcrR.faa  CpxR.faa       Fis.faa    IHF.faa   ModE.faa  PgrR.faa   SutR.faa\r\n",
      "Act.faa   Cra.faa        FlhDC.faa  IlvY.faa  MprA.faa  PhoB.faa   TdcA.faa\r\n",
      "Ada.faa   CreB.faa       FliZ.faa   IscR.faa  MqsA.faa  PhoP.faa   TdcR.faa\r\n",
      "AgaR.faa  CRP.faa        FNR.faa    KdgR.faa  MraZ.faa  PrpR.faa   TorR.faa\r\n",
      "AidB.faa  CsgD.faa       Fur.faa    KdpE.faa  MurR.faa  PspF.faa   TreR.faa\r\n",
      "AllR.faa  CspA.faa       GadE.faa   LacI.faa  Nac.faa   PurR.faa   TrpR.faa\r\n",
      "AllS.faa  CueR.faa       GadW.faa   LeuO.faa  NagC.faa  PutA.faa   TyrR.faa\r\n",
      "AraC.faa  CusR.faa       GadX.faa   LexA.faa  NanR.faa  PuuR.faa   UhpA.faa\r\n",
      "ArcA.faa  CynR.faa       GalR.faa   LldR.faa  NarL.faa  QseB.faa   UidR.faa\r\n",
      "ArgP.faa  CysB.faa       GalS.faa   LrhA.faa  NarP.faa  RbsR.faa   UlaR.faa\r\n",
      "ArgR.faa  CytR.faa       GcvA.faa   Lrp.faa   NemR.faa  RcdA.faa   UvrY.faa\r\n",
      "ArsR.faa  Dan.faa        GlcC.faa   MalI.faa  NfeR.faa  RcnR.faa   UxuR.faa\r\n",
      "AscG.faa  DcuR.faa       GlpR.faa   MalT.faa  NhaR.faa  RcsAB.faa  XapR.faa\r\n",
      "AsnC.faa  DeoR.faa       GlrR.faa   MarA.faa  NikR.faa  RcsB.faa   XylR.faa\r\n",
      "AtoC.faa  DicA.faa       GntR.faa   MarR.faa  NimR.faa  RelB.faa   YdeO.faa\r\n",
      "BaeR.faa  DinJ-YafQ.faa  HcaR.faa   MazE.faa  NorR.faa  RhaR.faa   YefM.faa\r\n",
      "BasR.faa  DnaA.faa       HigA.faa   McbR.faa  NrdR.faa  RhaS.faa   YiaJ.faa\r\n",
      "BetI.faa  DpiA.faa       HipAB.faa  MelR.faa  NsrR.faa  Rob.faa    YjjQ.faa\r\n",
      "BirA.faa  EnvR.faa       HipB.faa   MetJ.faa  NtrC.faa  RstA.faa   YpdB.faa\r\n",
      "BluR.faa  EvgA.faa       H-NS.faa   MetR.faa  OmpR.faa  RutR.faa   YqhC.faa\r\n",
      "BtsR.faa  ExuR.faa       HprR.faa   MhpR.faa  OxyR.faa  SdiA.faa   ZntR.faa\r\n",
      "CaiF.faa  FabR.faa       HU.faa     Mlc.faa   PaaX.faa  SgrR.faa   ZraR.faa\r\n",
      "Cbl.faa   FadR.faa       HyfR.faa   MlrA.faa  PdeL.faa  SlyA.faa   Zur.faa\r\n",
      "CecR.faa  FeaR.faa       IclR.faa   MngR.faa  PdhR.faa  SoxR.faa\r\n",
      "ChbR.faa  FhlA.faa       IdnR.faa   MntR.faa  PepA.faa  SoxS.faa\r\n"
     ]
    }
   ],
   "source": [
    "ls ./fastas_per_TF"
   ]
  },
  {
   "cell_type": "code",
   "execution_count": 187,
   "id": "f20c7a80",
   "metadata": {},
   "outputs": [],
   "source": [
    "tests =pd.read_csv('./fastas_per_TF/Zur.faa', sep=\" \", header=None)\n",
    "\n",
    "randomized_df = randomize_letters(tests)\n",
    "\n",
    "randomized_df.to_csv('Zur.csv', index=False)"
   ]
  },
  {
   "cell_type": "markdown",
   "id": "5b1dfebc",
   "metadata": {},
   "source": [
    "tests =pd.read_csv('./fastas_per_TF/Act.faa', sep=\" \", header=None)\n",
    "tests"
   ]
  },
  {
   "cell_type": "markdown",
   "id": "992ecf46",
   "metadata": {},
   "source": [
    "letter_counts_df = count_letters(tests)\n",
    "#letter_counts_df"
   ]
  },
  {
   "cell_type": "markdown",
   "id": "1a7cab34",
   "metadata": {},
   "source": [
    "randomized_df = randomize_letters(tests)\n",
    "#randomized_df"
   ]
  },
  {
   "cell_type": "markdown",
   "id": "5c4243db",
   "metadata": {},
   "source": [
    "letter_counts_df = count_letters(randomized_df)\n",
    "#letter_counts_df"
   ]
  },
  {
   "cell_type": "markdown",
   "id": "1658edde",
   "metadata": {},
   "source": [
    "randomized_df.to_csv('Act.csv', index=False)"
   ]
  },
  {
   "cell_type": "code",
   "execution_count": null,
   "id": "552e69e9",
   "metadata": {},
   "outputs": [],
   "source": []
  }
 ],
 "metadata": {
  "kernelspec": {
   "display_name": "Python 3",
   "language": "python",
   "name": "python3"
  },
  "language_info": {
   "codemirror_mode": {
    "name": "ipython",
    "version": 3
   },
   "file_extension": ".py",
   "mimetype": "text/x-python",
   "name": "python",
   "nbconvert_exporter": "python",
   "pygments_lexer": "ipython3",
   "version": "3.9.6"
  }
 },
 "nbformat": 4,
 "nbformat_minor": 5
}
